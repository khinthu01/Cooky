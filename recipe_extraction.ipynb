{
  "nbformat": 4,
  "nbformat_minor": 0,
  "metadata": {
    "colab": {
      "name": "Copy of recipe_extraction.ipynb",
      "provenance": [],
      "collapsed_sections": []
    },
    "kernelspec": {
      "name": "python3",
      "display_name": "Python 3"
    },
    "language_info": {
      "name": "python"
    }
  },
  "cells": [
    {
      "cell_type": "code",
      "metadata": {
        "id": "xHKKXN0UsB4F"
      },
      "source": [
        "from bs4 import BeautifulSoup\n",
        "import requests\n",
        "import pandas as pd\n",
        "import sklearn"
      ],
      "execution_count": null,
      "outputs": []
    },
    {
      "cell_type": "markdown",
      "metadata": {
        "id": "4JpVzBOx17zr"
      },
      "source": [
        "Extracting data from recipes of different difficulty levels. Recipes are from https://www.greatbritishchefs.com/ and the scope has been limited to savoury European cuisines with both meat and vegetarian options. \n",
        "From recipe pages the recipe name, method, and difficulty was extracted. Ingredients list was not extracted as the ingredients are mentioned in the method. 30 recipes will be used with 78% being used for training"
      ]
    },
    {
      "cell_type": "code",
      "metadata": {
        "id": "0b-4RwZz2MOP"
      },
      "source": [
        "\n",
        "def url_to_recipe(url):\n",
        "  '''function takes a recipe url and extracts the recipe from the website'''\n",
        "  recipe = requests.get(url).text\n",
        "  soup = BeautifulSoup(recipe, 'lxml')\n",
        "  recipe_name = soup.find(class_=\"Recipe__Header Header\").find(\"h1\").text\n",
        "\n",
        "  difficulty = soup.find(class_=\"RecipeAttributes__Difficulty\")\n",
        "\n",
        "  if difficulty.find(class_=\"header-attribute-text text-capitalize medium\"):\n",
        "    recipe_difficulty= difficulty.find(class_=\"header-attribute-text text-capitalize medium\").text\n",
        "  else: \n",
        "    recipe_difficulty = soup.find(class_=\"RecipeAttributes__Difficulty\").find(class_=\"header-attribute-text text-capitalize\").text\n",
        "  recipe_method = [p.text for p in soup.find(class_=\"Recipe__Method Method\").find_all(class_=\"MethodList__StepText\")]\n",
        "\n",
        "  return [recipe_name, recipe_difficulty, recipe_method]\n",
        "\n"
      ],
      "execution_count": null,
      "outputs": []
    },
    {
      "cell_type": "code",
      "metadata": {
        "id": "3Cc-KkcE-lmG"
      },
      "source": [
        "recipe_urls = [\n",
        "               \"https://www.greatbritishchefs.com/recipes/barbecued-spatchcock-chicken-recipe\",\n",
        "               \"https://www.greatbritishchefs.com/recipes/turkey-arancini-recipe\",\n",
        "               \"https://www.greatbritishchefs.com/recipes/chicken-wild-garlic-recipe\",\n",
        "               \"https://www.greatbritishchefs.com/recipes/kurnik-chicken-pie-recipe\",\n",
        "               \"https://www.greatbritishchefs.com/recipes/roast-quail-farcie-recipe\",\n",
        "               \"https://www.greatbritishchefs.com/recipes/roast-chicken-breast-recipe\",\n",
        "               \"https://www.greatbritishchefs.com/recipes/beef-cheek-beef-fillet-snails-parsnip\",\n",
        "               \"https://www.greatbritishchefs.com/recipes/barbecue-t-bone-steak-recipe\",\n",
        "               \"https://www.greatbritishchefs.com/recipes/sirloin-of-beef-recipe\",\n",
        "               \"https://www.greatbritishchefs.com/recipes/beef-cheek-and-fillet-recipe\",\n",
        "               \"https://www.greatbritishchefs.com/recipes/wagyu-beef-burger-recipe-fermented-lettuce\",\n",
        "               \"https://www.greatitalianchefs.com/recipes/malloreddus-recipe-sausage-fennel-ragu\",\n",
        "               \"https://www.greatbritishchefs.com/recipes/meatloaf-recipe\",\n",
        "               \"https://www.greatbritishchefs.com/recipes/roast-ham-recipe\",\n",
        "               \"https://www.greatbritishchefs.com/recipes/pork-neck-recipe-wild-mushrooms-wild-garlic\",\n",
        "               \"https://www.greatbritishchefs.com/recipes/lamb-rump-courgette-moussaka\",\n",
        "               \"https://www.greatbritishchefs.com/recipes/seaweed-crusted-lamb-recipe\",\n",
        "               \"https://www.greatbritishchefs.com/recipes/amchur-fenugreek-lamb-rumps-recipe\",\n",
        "               \"https://www.greatbritishchefs.com/recipes/pressed-lamb-shoulder-sweetbreads-and-loin-with-lemon-puree\",\n",
        "               \"https://www.greatbritishchefs.com/recipes/lamb-celeriac-recipe\",\n",
        "               \"https://www.greatbritishchefs.com/recipes/marinated-black-cod-recipe\",\n",
        "               \"https://www.greatbritishchefs.com/recipes/stuffed-calamari-recipe\",\n",
        "               \"https://www.greatbritishchefs.com/recipes/baccala-stuffed-courgette-flowers-recipe\",\n",
        "               \"https://www.greatbritishchefs.com/recipes/cod-loin-with-spaghetti-recipe\",\n",
        "               \"https://www.greatbritishchefs.com/recipes/scallop-leeks-dill-recipe\",\n",
        "               \"https://www.greatbritishchefs.com/recipes/aubergine-cheese-bake-recipe\",\n",
        "               \"https://www.greatbritishchefs.com/recipes/vegetable-puffs-recipe\",\n",
        "               \"https://www.greatbritishchefs.com/recipes/leek-and-mushroom-pie-recipe\",\n",
        "               \"https://www.greatbritishchefs.com/recipes/pea-mousse-mint-snow-recipe\",\n",
        "               \"https://www.greatbritishchefs.com/recipes/yeasted-cauliflower-recipe\"\n",
        "]"
      ],
      "execution_count": null,
      "outputs": []
    },
    {
      "cell_type": "code",
      "metadata": {
        "id": "f_T8jF0EM0gF"
      },
      "source": [
        "'''adding more recipes after finding 30 recipes did not result in high accuracies'''\n",
        "more_recipe_urls = [\n",
        "                    \"https://www.greatbritishchefs.com/recipes/steak-salad-with-pumpkin-recipe\",\n",
        "                    \"https://www.greatbritishchefs.com/recipes/brisket-mash-cabbage-recipe\",\n",
        "                    \"https://www.greatbritishchefs.com/recipes/beef-fillet-ox-cheek-nettle-recipe\",\n",
        "                    \"https://www.greatbritishchefs.com/recipes/mrs-bainbridges-cottage-pie-recipe\",\n",
        "                    \"https://www.greatbritishchefs.com/recipes/beef-fillet-recipe-hay-beetroot\",\n",
        "                    \"https://www.greatbritishchefs.com/recipes/lasagne-pastachina-recipe\",\n",
        "                    \"https://www.greatbritishchefs.com/recipes/chicken-skin-butter-recipe\",\n",
        "                    \"https://www.greatbritishchefs.com/recipes/chicken-barley-morels-recipe\",\n",
        "                    \"https://www.greatbritishchefs.com/recipes/poached-and-roasted-chicken-recipe\",\n",
        "                    \"https://www.greatbritishchefs.com/recipes/pea-and-broad-bean-flatbread-with-chicken-thigh-recipe\",\n",
        "                    \"https://www.greatbritishchefs.com/recipes/almond-rice-and-flesh-recipe\",\n",
        "                    \"https://www.greatbritishchefs.com/recipes/gourmet-chicken-soup-recipe\",\n",
        "                    \"https://www.greatbritishchefs.com/recipes/lamb-rump-anchovies-pea-puree\",\n",
        "                    \"https://www.greatbritishchefs.com/recipes/roasted-lamb-rump-recipe\",\n",
        "                    \"https://www.greatbritishchefs.com/recipes/lamb-celeriac-recipe\",\n",
        "                    \"https://www.greatbritishchefs.com/recipes/slow-roast-pork-belly-recipe\",\n",
        "                    \"https://www.greatbritishchefs.com/recipes/pork-parcel-recipe\",\n",
        "                    \"https://www.greatbritishchefs.com/recipes/roast-suckling-pig-recipe\",\n",
        "                    \"https://www.greatbritishchefs.com/recipes/bouillabasse-recipe-sea-bass-cod-mussels\",\n",
        "                    \"https://www.greatbritishchefs.com/recipes/linguine-prawns-lemon-parsley-recipe\",\n",
        "                    \"https://www.greatbritishchefs.com/recipes/crusted-salmon-recipe\",\n",
        "                    \"https://www.greatbritishchefs.com/recipes/cod-white-beans-recipe\",\n",
        "                    \"https://www.greatbritishchefs.com/recipes/sous-vide-sea-bass-recipe-herb-gnocchi\",\n",
        "                    \"https://www.greatbritishchefs.com/recipes/spiced-cod-recipe\",\n",
        "                    \"https://www.greatbritishchefs.com/recipes/quorn-mushroom-burgers-recipe\",\n",
        "                    \"https://www.greatbritishchefs.com/recipes/carrot-casserole-recipe\",\n",
        "                    \"https://www.greatbritishchefs.com/recipes/chickpea-veggie-burger-recipe\",\n",
        "                    \"https://www.greatbritishchefs.com/recipes/fennel-quinoa-salad-recipe\",\n",
        "                    \"https://www.greatbritishchefs.com/recipes/smoked-beetroot-tartare-recipe\",\n",
        "                    \"https://www.greatbritishchefs.com/recipes/butternut-squash-gorgonzola-recipe\"]"
      ],
      "execution_count": null,
      "outputs": []
    },
    {
      "cell_type": "code",
      "metadata": {
        "id": "O2c9KlBVHBrb"
      },
      "source": [
        "recipes = [url_to_recipe(url) for url in recipe_urls]"
      ],
      "execution_count": null,
      "outputs": []
    },
    {
      "cell_type": "code",
      "metadata": {
        "id": "87AxYnj6M2mY"
      },
      "source": [
        "for url in more_recipe_urls:\n",
        "  recipes.append(url_to_recipe(url))"
      ],
      "execution_count": null,
      "outputs": []
    },
    {
      "cell_type": "code",
      "metadata": {
        "id": "zpXgtGxVItSa"
      },
      "source": [
        "def combine_text(list_of_text):\n",
        "  '''Takes a list of text and combines them into one large group of text.'''\n",
        "  combined_text = ' '.join(list_of_text)\n",
        "  return combined_text\n"
      ],
      "execution_count": null,
      "outputs": []
    },
    {
      "cell_type": "code",
      "metadata": {
        "id": "bR_GFMJFPK-x"
      },
      "source": [
        "recipe_names = [r[0] for r in recipes]\n",
        "recipe_difficulties = [r[1] for r in recipes]\n",
        "recipe_combined = [combine_text(r[2]) for r in recipes]\n",
        "recipe_methods = [r.replace(\"\\r\\n\", \" \") for r in recipe_combined]\n",
        "recipe_names = [r.replace(\"\\r\\n\", \" \") for r in recipe_names]"
      ],
      "execution_count": null,
      "outputs": []
    },
    {
      "cell_type": "code",
      "metadata": {
        "id": "OEWntMATWRwz"
      },
      "source": [
        "pd.set_option('max_colwidth', 200)\n",
        "''' organising data into corpus '''\n",
        "data = {\"Recipe Name\": recipe_names, \"Method\": recipe_methods, \"Difficulty\": recipe_difficulties}\n",
        "recipe_df = pd.DataFrame(data=data, columns=[\"Recipe_Name\", \"Method\", \"Difficulty\"])\n",
        "\n",
        "recipe_df.to_csv(\"recipe_corpus.csv\")\n"
      ],
      "execution_count": null,
      "outputs": []
    },
    {
      "cell_type": "code",
      "metadata": {
        "id": "EAy2Dkj8stWV"
      },
      "source": [
        "from sklearn.model_selection import train_test_split\n",
        "from sklearn.feature_extraction.text import CountVectorizer, TfidfTransformer, TfidfVectorizer\n"
      ],
      "execution_count": null,
      "outputs": []
    },
    {
      "cell_type": "code",
      "metadata": {
        "colab": {
          "base_uri": "https://localhost:8080/"
        },
        "id": "YUdg1ifz1kvT",
        "outputId": "d3f0df7b-86d0-4a39-dd75-00abb827dc71"
      },
      "source": [
        "'''extracting n-grams'''\n",
        "tfidf = TfidfVectorizer(sublinear_tf=True, min_df = 10, norm='l2', encoding='latin-1', ngram_range=(1,2), stop_words='english')\n",
        "\n",
        "'''organising n-gram features into a document frequency matrix'''\n",
        "features = tfidf.fit_transform(recipe_df.Method).toarray()\n",
        "labels = recipe_df.Difficulty\n",
        "features.shape"
      ],
      "execution_count": null,
      "outputs": [
        {
          "output_type": "execute_result",
          "data": {
            "text/plain": [
              "(30, 609)"
            ]
          },
          "metadata": {
            "tags": []
          },
          "execution_count": 14
        }
      ]
    },
    {
      "cell_type": "code",
      "metadata": {
        "id": "-_iVleJN2hjN"
      },
      "source": [
        "from sklearn.feature_selection import chi2\n",
        "import numpy as np"
      ],
      "execution_count": null,
      "outputs": []
    },
    {
      "cell_type": "code",
      "metadata": {
        "id": "7uQ85ety2m3B"
      },
      "source": [
        "recipe_df['difficulty_id'] = recipe_df['Difficulty'].factorize()[0]\n",
        "difficulty_id_df = recipe_df[['Difficulty', 'difficulty_id']].drop_duplicates().sort_values('difficulty_id')\n",
        "difficulty_to_id = dict(difficulty_id_df.values)\n",
        "id_to_difficulty = dict(difficulty_id_df[['difficulty_id','Difficulty']].values)\n"
      ],
      "execution_count": null,
      "outputs": []
    },
    {
      "cell_type": "code",
      "metadata": {
        "id": "HA9sMvky5r7D"
      },
      "source": [
        "x_train, x_test, y_train, y_test = train_test_split(features, labels, train_size=0.78, random_state=1)\n"
      ],
      "execution_count": null,
      "outputs": []
    },
    {
      "cell_type": "code",
      "metadata": {
        "id": "tnp4vDX39OwA"
      },
      "source": [
        "from sklearn.metrics import confusion_matrix\n",
        "import matplotlib.pyplot as plt\n",
        "import seaborn as sns"
      ],
      "execution_count": null,
      "outputs": []
    },
    {
      "cell_type": "code",
      "metadata": {
        "id": "1nFpiR29_DXu"
      },
      "source": [
        "from sklearn.linear_model import LogisticRegression\n",
        "from sklearn.ensemble import RandomForestClassifier\n",
        "from sklearn.svm import LinearSVC\n",
        "from sklearn.naive_bayes import MultinomialNB"
      ],
      "execution_count": null,
      "outputs": []
    },
    {
      "cell_type": "code",
      "metadata": {
        "id": "qH0q4gro_P6X"
      },
      "source": [
        "from sklearn.model_selection import cross_val_score"
      ],
      "execution_count": null,
      "outputs": []
    },
    {
      "cell_type": "code",
      "metadata": {
        "id": "7QIiSjRJ_WlL"
      },
      "source": [
        "models = [RandomForestClassifier(n_estimators=50, max_depth=5, random_state=1),\n",
        "          LinearSVC(),\n",
        "          MultinomialNB(),\n",
        "          LogisticRegression(random_state=1)]"
      ],
      "execution_count": null,
      "outputs": []
    },
    {
      "cell_type": "code",
      "metadata": {
        "colab": {
          "base_uri": "https://localhost:8080/",
          "height": 280
        },
        "id": "BD82JI36_rhk",
        "outputId": "b5b4efbb-3488-4e90-bc19-5e1360295812"
      },
      "source": [
        "CV = 5\n",
        "cv_df = pd.DataFrame(index=range(CV*len(models)))\n",
        "entries = []\n",
        "\n",
        "for model in models:\n",
        "  '''comparing model accuracies'''\n",
        "  model_name = model.__class__.__name__\n",
        "  accuracies = cross_val_score(model, features, labels, scoring='accuracy', cv=CV)\n",
        "  for fold_idx, accuracy in enumerate(accuracies):\n",
        "    entries.append((model_name, fold_idx, accuracy))\n",
        "\n",
        "cv_df = pd.DataFrame(entries, columns=['model_name', 'fold_idx', 'accuracy'])\n",
        "\n",
        "sns.boxplot(x='model_name', y='accuracy', data=cv_df)\n",
        "plt.show()"
      ],
      "execution_count": null,
      "outputs": [
        {
          "output_type": "display_data",
          "data": {
            "image/png": "[encoded data removed]",
            "text/plain": [
              "<Figure size 432x288 with 1 Axes>"
            ]
          },
          "metadata": {
            "tags": [],
            "needs_background": "light"
          }
        }
      ]
    },
    {
      "cell_type": "code",
      "metadata": {
        "id": "KB4d0WbCAvoR"
      },
      "source": [
        "models[0].fit(x_train, y_train)\n",
        "y_pred = models[0].predict(x_test)"
      ],
      "execution_count": null,
      "outputs": []
    },
    {
      "cell_type": "code",
      "metadata": {
        "colab": {
          "base_uri": "https://localhost:8080/",
          "height": 610
        },
        "id": "PPahfqQ7Ixs1",
        "outputId": "89989fe1-250f-4193-91f7-d570f6647ef9"
      },
      "source": [
        "'''generating a confusion matrix for random forest model'''\n",
        "conf_mat = confusion_matrix(y_test, y_pred)\n",
        "fig, ax = plt.subplots(figsize=(10,10))\n",
        "sns.heatmap(conf_mat, annot=True, fmt='d', xticklabels=difficulty_id_df.Difficulty.values, yticklabels=difficulty_id_df.Difficulty.values)\n",
        "plt.ylabel('Actual')\n",
        "plt.xlabel('Predicted')\n",
        "plt.show()"
      ],
      "execution_count": null,
      "outputs": [
        {
          "output_type": "display_data",
          "data": {
            "image/png": "[encoded data removed]",
            "text/plain": [
              "<Figure size 720x720 with 2 Axes>"
            ]
          },
          "metadata": {
            "tags": [],
            "needs_background": "light"
          }
        }
      ]
    },
    {
      "cell_type": "code",
      "metadata": {
        "colab": {
          "base_uri": "https://localhost:8080/"
        },
        "id": "ErnIYDLCNGoQ",
        "outputId": "3be741ca-ec29-4033-96f4-a414dd784cac"
      },
      "source": [
        "from sklearn import metrics\n",
        "\n",
        "print(metrics.classification_report(y_test, y_pred, target_names=recipe_df[\"Difficulty\"].unique()))"
      ],
      "execution_count": null,
      "outputs": [
        {
          "output_type": "stream",
          "text": [
            "              precision    recall  f1-score   support\n",
            "\n",
            "        easy       1.00      0.83      0.91         6\n",
            "      medium       0.12      1.00      0.22         1\n",
            " challenging       1.00      0.14      0.25         7\n",
            "\n",
            "    accuracy                           0.50        14\n",
            "   macro avg       0.71      0.66      0.46        14\n",
            "weighted avg       0.94      0.50      0.53        14\n",
            "\n"
          ],
          "name": "stdout"
        }
      ]
    }
  ]
}